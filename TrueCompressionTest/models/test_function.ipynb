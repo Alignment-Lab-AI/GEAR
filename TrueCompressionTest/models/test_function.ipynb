{
 "cells": [
  {
   "cell_type": "markdown",
   "metadata": {},
   "source": []
  },
  {
   "cell_type": "code",
   "execution_count": 1,
   "metadata": {},
   "outputs": [],
   "source": [
    "import torch\n",
    "import time\n",
    "from compress_function import fake_groupwise_asymmetric_quantization, fake_stage_poweriteration"
   ]
  },
  {
   "cell_type": "code",
   "execution_count": 4,
   "metadata": {},
   "outputs": [
    {
     "name": "stdout",
     "output_type": "stream",
     "text": [
      "torch.Size([768, 25]) torch.Size([255, 25]) torch.Size([255, 768])\n",
      "torch.Size([768, 25]) torch.Size([255, 25]) torch.Size([255, 768])\n",
      "torch.Size([768, 25]) torch.Size([255, 25]) torch.Size([255, 768])\n",
      "torch.Size([768, 25]) torch.Size([258, 25]) torch.Size([258, 768])\n"
     ]
    }
   ],
   "source": [
    "input = torch.randn(1,12,1023,64)\n",
    "# print(input)\n",
    "stage = 4\n",
    "loop = 3\n",
    "rank = 100\n",
    "device = 0\n",
    "pbase = [torch.randn(768,100)]\n",
    "qbase = [torch.randn(1023,25) ]\n",
    "output = fake_stage_poweriteration(input,loop,rank,stage,device,pbase,qbase)\n",
    "# print(output)"
   ]
  },
  {
   "cell_type": "code",
   "execution_count": 1,
   "metadata": {},
   "outputs": [
    {
     "ename": "AttributeError",
     "evalue": "module 'torch.linalg' has no attribute 'svd_lowrank'",
     "output_type": "error",
     "traceback": [
      "\u001b[0;31m---------------------------------------------------------------------------\u001b[0m",
      "\u001b[0;31mAttributeError\u001b[0m                            Traceback (most recent call last)",
      "Cell \u001b[0;32mIn[1], line 3\u001b[0m\n\u001b[1;32m      1\u001b[0m \u001b[38;5;28;01mimport\u001b[39;00m \u001b[38;5;21;01mtorch\u001b[39;00m\n\u001b[1;32m      2\u001b[0m t1 \u001b[38;5;241m=\u001b[39m torch\u001b[38;5;241m.\u001b[39mrandn(\u001b[38;5;241m3\u001b[39m, \u001b[38;5;241m5\u001b[39m)\n\u001b[0;32m----> 3\u001b[0m b \u001b[38;5;241m=\u001b[39m \u001b[43mtorch\u001b[49m\u001b[38;5;241;43m.\u001b[39;49m\u001b[43mlinalg\u001b[49m\u001b[38;5;241;43m.\u001b[39;49m\u001b[43msvd_lowrank\u001b[49m(t1, q\u001b[38;5;241m=\u001b[39m\u001b[38;5;241m2\u001b[39m, niter\u001b[38;5;241m=\u001b[39m\u001b[38;5;241m2\u001b[39m, M\u001b[38;5;241m=\u001b[39m\u001b[38;5;28;01mNone\u001b[39;00m, p\u001b[38;5;241m=\u001b[39m\u001b[38;5;241m2\u001b[39m, full_matrices\u001b[38;5;241m=\u001b[39m\u001b[38;5;28;01mFalse\u001b[39;00m, compute_uv\u001b[38;5;241m=\u001b[39m\u001b[38;5;28;01mTrue\u001b[39;00m, tol\u001b[38;5;241m=\u001b[39m\u001b[38;5;241m1e-05\u001b[39m, hermitian\u001b[38;5;241m=\u001b[39m\u001b[38;5;28;01mFalse\u001b[39;00m)\n",
      "\u001b[0;31mAttributeError\u001b[0m: module 'torch.linalg' has no attribute 'svd_lowrank'"
     ]
    }
   ],
   "source": [
    "import torch\n",
    "t1 = torch.randn(3, 5)\n",
    "b = torch.svd_lowrank(t1, q=2, niter=2, M=None, p=2, full_matrices=False, compute_uv=True, tol=1e-05, hermitian=False)"
   ]
  }
 ],
 "metadata": {
  "kernelspec": {
   "display_name": "Python 3",
   "language": "python",
   "name": "python3"
  },
  "language_info": {
   "codemirror_mode": {
    "name": "ipython",
    "version": 3
   },
   "file_extension": ".py",
   "mimetype": "text/x-python",
   "name": "python",
   "nbconvert_exporter": "python",
   "pygments_lexer": "ipython3",
   "version": "3.10.13"
  },
  "orig_nbformat": 4
 },
 "nbformat": 4,
 "nbformat_minor": 2
}
