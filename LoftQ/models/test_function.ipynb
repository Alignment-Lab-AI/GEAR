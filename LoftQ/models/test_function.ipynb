{
 "cells": [
  {
   "cell_type": "markdown",
   "metadata": {},
   "source": []
  },
  {
   "cell_type": "code",
   "execution_count": 1,
   "metadata": {},
   "outputs": [],
   "source": [
    "import torch\n",
    "import time\n",
    "from compress_function import fake_groupwise_asymmetric_quantization, fake_stage_poweriteration"
   ]
  },
  {
   "cell_type": "code",
   "execution_count": 4,
   "metadata": {},
   "outputs": [
    {
     "name": "stdout",
     "output_type": "stream",
     "text": [
      "torch.Size([768, 25]) torch.Size([255, 25]) torch.Size([255, 768])\n",
      "torch.Size([768, 25]) torch.Size([255, 25]) torch.Size([255, 768])\n",
      "torch.Size([768, 25]) torch.Size([255, 25]) torch.Size([255, 768])\n",
      "torch.Size([768, 25]) torch.Size([258, 25]) torch.Size([258, 768])\n"
     ]
    }
   ],
   "source": [
    "input = torch.randn(1,12,1023,64)\n",
    "# print(input)\n",
    "stage = 4\n",
    "loop = 3\n",
    "rank = 100\n",
    "device = 0\n",
    "pbase = [torch.randn(768,100)]\n",
    "qbase = [torch.randn(1023,25) ]\n",
    "output = fake_stage_poweriteration(input,loop,rank,stage,device,pbase,qbase)\n",
    "# print(output)"
   ]
  }
 ],
 "metadata": {
  "kernelspec": {
   "display_name": "Python 3",
   "language": "python",
   "name": "python3"
  },
  "language_info": {
   "codemirror_mode": {
    "name": "ipython",
    "version": 3
   },
   "file_extension": ".py",
   "mimetype": "text/x-python",
   "name": "python",
   "nbconvert_exporter": "python",
   "pygments_lexer": "ipython3",
   "version": "3.8.17"
  },
  "orig_nbformat": 4
 },
 "nbformat": 4,
 "nbformat_minor": 2
}
