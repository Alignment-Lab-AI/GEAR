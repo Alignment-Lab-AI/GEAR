{
 "cells": [
  {
   "cell_type": "markdown",
   "metadata": {},
   "source": [
    "# Only loading Time"
   ]
  },
  {
   "cell_type": "code",
   "execution_count": 1,
   "metadata": {},
   "outputs": [
    {
     "name": "stdout",
     "output_type": "stream",
     "text": [
      "load time:  0.03177452087402344\n",
      "load time:  0.028620481491088867\n",
      "load time:  0.030874013900756836\n",
      "load time:  0.027991771697998047\n",
      "load time:  0.030292510986328125\n",
      "load time:  0.02783203125\n",
      "load time:  0.03204965591430664\n",
      "load time:  0.02970433235168457\n",
      "load time:  0.027785301208496094\n",
      "load time:  0.02775096893310547\n",
      "average load time:  0.029467558860778807\n"
     ]
    }
   ],
   "source": [
    "import torch\n",
    "import time\n",
    "\n",
    "time_counter = 0.0\n",
    "for i in range(10):\n",
    "    A = torch.randn(10000,10000).half()\n",
    "    torch.cuda.synchronize()\n",
    "    start_load = time.time()\n",
    "    A = A.to(\"cuda\")\n",
    "    torch.cuda.synchronize()\n",
    "    end_load = time.time()\n",
    "    print(\"load time: \", end_load - start_load)\n",
    "    A = A.to(\"cpu\")\n",
    "    del A\n",
    "    time_counter += end_load - start_load\n",
    "print(\"average load time: \", time_counter/10)\n"
   ]
  },
  {
   "cell_type": "markdown",
   "metadata": {},
   "source": [
    "# Only computing time, related to data"
   ]
  },
  {
   "cell_type": "code",
   "execution_count": 3,
   "metadata": {},
   "outputs": [
    {
     "name": "stdout",
     "output_type": "stream",
     "text": [
      "compute time:  0.23848962783813477\n",
      "compute time:  0.02160334587097168\n",
      "compute time:  0.021558046340942383\n",
      "compute time:  0.04707765579223633\n",
      "compute time:  0.06136727333068848\n",
      "compute time:  0.08323526382446289\n",
      "compute time:  0.07685017585754395\n",
      "compute time:  0.07661890983581543\n",
      "compute time:  0.15372371673583984\n",
      "compute time:  0.021572113037109375\n",
      "avg compute time:  0.08020961284637451\n"
     ]
    }
   ],
   "source": [
    "time_counter = 0.0\n",
    "\n",
    "for i in range(10):\n",
    "    B = torch.randn(10000,10000).half().to(\"cuda\")\n",
    "    C = torch.randn(10000,10000).half().to(\"cuda\")\n",
    "\n",
    "\n",
    "    torch.cuda.synchronize()\n",
    "    start_compute = time.time()\n",
    "    E = B.matmul(C)\n",
    "    torch.cuda.synchronize()\n",
    "    end_compute = time.time()\n",
    "    time_counter += end_compute - start_compute\n",
    "    print(\"compute time: \", end_compute - start_compute)\n",
    "    del E\n",
    "print(\"avg compute time: \", time_counter/10)\n"
   ]
  },
  {
   "cell_type": "code",
   "execution_count": 4,
   "metadata": {},
   "outputs": [
    {
     "name": "stdout",
     "output_type": "stream",
     "text": [
      "combine time:  0.21904778480529785\n",
      "combine time:  0.047850608825683594\n",
      "combine time:  0.07158541679382324\n",
      "combine time:  0.09486961364746094\n",
      "combine time:  0.13797950744628906\n",
      "combine time:  0.11539196968078613\n",
      "combine time:  0.049726247787475586\n",
      "combine time:  0.09643268585205078\n",
      "combine time:  0.05267930030822754\n",
      "combine time:  0.09596371650695801\n",
      "avg combine time:  0.09815268516540528\n"
     ]
    }
   ],
   "source": [
    "time_counter = 0.0\n",
    "for i in range(10):\n",
    "    A = torch.randn(10000,10000).half()\n",
    "    B = torch.randn(10000,10000).half().to(\"cuda\")\n",
    "    D = torch.randn(10000,10000).half().to(\"cuda\")\n",
    "    torch.cuda.synchronize()\n",
    "    start_combine = time.time()\n",
    "    A = A.to(\"cuda\")\n",
    "    F = B.matmul(D)\n",
    "    torch.cuda.synchronize()\n",
    "    end_combine = time.time()\n",
    "    time_counter += end_combine - start_combine\n",
    "    print(\"combine time: \", end_combine - start_combine)\n",
    "    A = A.to(\"cpu\")\n",
    "    del F\n",
    "    del A\n",
    "    del B\n",
    "    del D\n",
    "print(\"avg combine time: \", time_counter/10)\n"
   ]
  },
  {
   "cell_type": "markdown",
   "metadata": {},
   "source": [
    "# Conclusion\n",
    "Pytorch could optimize recomputing and loading KV caches"
   ]
  }
 ],
 "metadata": {
  "kernelspec": {
   "display_name": "llm",
   "language": "python",
   "name": "python3"
  },
  "language_info": {
   "codemirror_mode": {
    "name": "ipython",
    "version": 3
   },
   "file_extension": ".py",
   "mimetype": "text/x-python",
   "name": "python",
   "nbconvert_exporter": "python",
   "pygments_lexer": "ipython3",
   "version": "3.10.13"
  }
 },
 "nbformat": 4,
 "nbformat_minor": 2
}
