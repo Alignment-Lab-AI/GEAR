{
 "cells": [
  {
   "cell_type": "markdown",
   "metadata": {},
   "source": [
    "# Only loading Time"
   ]
  },
  {
   "cell_type": "code",
   "execution_count": 9,
   "metadata": {},
   "outputs": [
    {
     "name": "stdout",
     "output_type": "stream",
     "text": [
      "load time:  0.022943735122680664\n",
      "load time:  0.023073196411132812\n",
      "load time:  0.022989988327026367\n",
      "load time:  0.023500680923461914\n",
      "load time:  0.023050785064697266\n",
      "load time:  0.02328801155090332\n",
      "load time:  0.022878646850585938\n",
      "load time:  0.023566007614135742\n",
      "load time:  0.022873640060424805\n",
      "load time:  0.02295851707458496\n",
      "average load time:  0.02311232089996338\n"
     ]
    }
   ],
   "source": [
    "import torch\n",
    "import time\n",
    "\n",
    "time_counter = 0.0\n",
    "A = torch.randn(10000,10000).half()\n",
    "for i in range(10):\n",
    "    \n",
    "    # torch.cuda.synchronize()\n",
    "    start_load = time.time()\n",
    "    A = A.to(\"cuda\",non_blocking=True)\n",
    "    torch.cuda.synchronize()\n",
    "    end_load = time.time()\n",
    "    print(\"load time: \", end_load - start_load)\n",
    "    A = A.to(\"cpu\")\n",
    "    time_counter += end_load - start_load\n",
    "print(\"average load time: \", time_counter/10)\n"
   ]
  },
  {
   "cell_type": "markdown",
   "metadata": {},
   "source": [
    "# Only computing time, related to data"
   ]
  },
  {
   "cell_type": "code",
   "execution_count": 11,
   "metadata": {},
   "outputs": [
    {
     "name": "stdout",
     "output_type": "stream",
     "text": [
      "compute time:  0.03183341026306152\n",
      "compute time:  0.03186988830566406\n",
      "compute time:  0.031503915786743164\n",
      "compute time:  0.03164196014404297\n",
      "compute time:  0.03171515464782715\n",
      "compute time:  0.031426191329956055\n",
      "compute time:  0.0312654972076416\n",
      "compute time:  0.031061649322509766\n",
      "compute time:  0.030815839767456055\n",
      "compute time:  0.03064441680908203\n",
      "avg compute time:  0.03137779235839844\n"
     ]
    }
   ],
   "source": [
    "time_counter = 0.0\n",
    "B = torch.randn(10000,10000).half().to(\"cuda\")\n",
    "C = torch.randn(10000,10000).half().to(\"cuda\")\n",
    "for i in range(10):\n",
    "    \n",
    "\n",
    "\n",
    "    # torch.cuda.synchronize()\n",
    "    start_compute = time.time()\n",
    "    E = B.matmul(C)\n",
    "    torch.cuda.synchronize()\n",
    "    end_compute = time.time()\n",
    "    time_counter += end_compute - start_compute\n",
    "    print(\"compute time: \", end_compute - start_compute)\n",
    "print(\"avg compute time: \", time_counter/10)\n"
   ]
  },
  {
   "cell_type": "code",
   "execution_count": 15,
   "metadata": {},
   "outputs": [
    {
     "name": "stdout",
     "output_type": "stream",
     "text": [
      "combine time:  0.06417250633239746\n",
      "combine time:  0.06461691856384277\n",
      "combine time:  0.0641329288482666\n",
      "combine time:  0.06347894668579102\n",
      "combine time:  0.0648643970489502\n",
      "combine time:  0.06517481803894043\n",
      "combine time:  0.06503534317016602\n",
      "combine time:  0.0637204647064209\n",
      "combine time:  0.06436300277709961\n",
      "combine time:  0.06391119956970215\n",
      "avg combine time:  0.06434705257415771\n"
     ]
    }
   ],
   "source": [
    "time_counter = 0.0\n",
    "# A = torch.randn(10000,10000).half()\n",
    "# B = torch.randn(10000,10000).half().to(\"cuda\",non_blocking = False)\n",
    "# D = torch.randn(10000,10000).half().to(\"cuda\",non_blocking = False)\n",
    "for i in range(10):\n",
    "    \n",
    "    start_combine = time.time()\n",
    "    \n",
    "    A = A.to(\"cuda\",non_blocking=True)\n",
    "    F = B.matmul(D)\n",
    "    torch.cuda.synchronize()\n",
    "    end_combine = time.time()\n",
    "    time_counter += end_combine - start_combine\n",
    "    print(\"combine time: \", end_combine - start_combine)\n",
    "    A = A.to(\"cpu\")\n",
    "print(\"avg combine time: \", time_counter/10)\n"
   ]
  },
  {
   "cell_type": "code",
   "execution_count": 16,
   "metadata": {},
   "outputs": [
    {
     "name": "stdout",
     "output_type": "stream",
     "text": [
      "combine time:  0.06586003303527832\n",
      "combine time:  0.06701278686523438\n",
      "combine time:  0.06680750846862793\n",
      "combine time:  0.06684398651123047\n",
      "combine time:  0.0675055980682373\n",
      "combine time:  0.06688666343688965\n",
      "combine time:  0.06734323501586914\n",
      "combine time:  0.06686615943908691\n",
      "combine time:  0.06675100326538086\n",
      "combine time:  0.06593847274780273\n",
      "avg combine time:  0.06678154468536376\n"
     ]
    }
   ],
   "source": [
    "import time\n",
    "import torch\n",
    "\n",
    "time_counter = 0.0\n",
    "B = torch.randn(10000, 10000).half().to(\"cuda\", non_blocking=True)\n",
    "D = torch.randn(10000, 10000).half().to(\"cuda\", non_blocking=True)\n",
    "\n",
    "for i in range(10):\n",
    "    start = time.time()\n",
    "    torch.cuda.synchronize()\n",
    "    start_combine = time.time()\n",
    "\n",
    "    A = A.to(\"cuda\", non_blocking=True)\n",
    "    F = B.matmul(D)\n",
    "    \n",
    "    torch.cuda.synchronize()\n",
    "    end_combine = time.time()\n",
    "    print(\"combine time: \", end_combine - start_combine)\n",
    "    time_counter += end_combine - start_combine\n",
    "    A = A.to(\"cpu\")\n",
    "print(\"avg combine time: \", time_counter / 10)"
   ]
  },
  {
   "cell_type": "code",
   "execution_count": 1,
   "metadata": {},
   "outputs": [
    {
     "name": "stdout",
     "output_type": "stream",
     "text": [
      "combine time:  0.11871957778930664\n",
      "combine time:  0.06522035598754883\n",
      "combine time:  0.06349897384643555\n",
      "combine time:  0.06327271461486816\n",
      "combine time:  0.06302499771118164\n",
      "combine time:  0.06320047378540039\n",
      "combine time:  0.06348824501037598\n",
      "combine time:  0.06352114677429199\n",
      "combine time:  0.06276488304138184\n",
      "combine time:  0.06293582916259766\n",
      "avg combine time:  0.06896471977233887\n"
     ]
    }
   ],
   "source": [
    "import time\n",
    "import torch\n",
    "\n",
    "time_counter = 0.0\n",
    "A = torch.randn(10000, 10000).half()\n",
    "B = torch.randn(10000, 10000).half().to(\"cuda\", non_blocking=True)\n",
    "D = torch.randn(10000, 10000).half().to(\"cuda\", non_blocking=True)\n",
    "\n",
    "# Create CUDA streams\n",
    "stream1 = torch.cuda.Stream()\n",
    "stream2 = torch.cuda.Stream()\n",
    "\n",
    "for i in range(10):\n",
    "    start_combine = time.time()\n",
    "\n",
    "    with torch.cuda.stream(stream1):\n",
    "        A = A.to(\"cuda\", non_blocking=True)\n",
    "\n",
    "    with torch.cuda.stream(stream2):\n",
    "        F = B.matmul(D)\n",
    "\n",
    "    # torch.cuda.synchronize()\n",
    "    print(A[-1][-1])\n",
    "    print()\n",
    "    end_combine = time.time()\n",
    "    print(\"combine time: \", end_combine - start_combine)\n",
    "    time_counter += end_combine - start_combine\n",
    "    A = A.to(\"cpu\")\n",
    "print(\"avg combine time: \", time_counter / 10)\n"
   ]
  },
  {
   "cell_type": "markdown",
   "metadata": {},
   "source": [
    "# Conclusion\n",
    "Pytorch could optimize recomputing and loading KV caches"
   ]
  }
 ],
 "metadata": {
  "kernelspec": {
   "display_name": "llm",
   "language": "python",
   "name": "python3"
  },
  "language_info": {
   "codemirror_mode": {
    "name": "ipython",
    "version": 3
   },
   "file_extension": ".py",
   "mimetype": "text/x-python",
   "name": "python",
   "nbconvert_exporter": "python",
   "pygments_lexer": "ipython3",
   "version": "3.8.17"
  }
 },
 "nbformat": 4,
 "nbformat_minor": 2
}
