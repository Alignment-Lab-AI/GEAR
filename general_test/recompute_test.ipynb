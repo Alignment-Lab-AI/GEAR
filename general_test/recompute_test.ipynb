{
 "cells": [
  {
   "cell_type": "code",
   "execution_count": 1,
   "metadata": {},
   "outputs": [],
   "source": [
    "import torch\n",
    "import time"
   ]
  },
  {
   "cell_type": "code",
   "execution_count": 9,
   "metadata": {},
   "outputs": [],
   "source": [
    "model_size = 4096\n",
    "seq_len = 10000\n",
    "batch = 4"
   ]
  },
  {
   "cell_type": "markdown",
   "metadata": {},
   "source": [
    "# Pure loading time"
   ]
  },
  {
   "cell_type": "code",
   "execution_count": 10,
   "metadata": {},
   "outputs": [
    {
     "name": "stdout",
     "output_type": "stream",
     "text": [
      "Time taken to move to GPU:  0.22755217552185059\n"
     ]
    }
   ],
   "source": [
    "\n",
    "Key = torch.randn(batch,seq_len,model_size)\n",
    "Value = torch.randn(batch,seq_len,model_size)\n",
    "start_time = time.time()\n",
    "Key = Key.to(0)\n",
    "Value = Value.to(0)\n",
    "torch.cuda.synchronize()\n",
    "end_time = time.time()\n",
    "print(\"Time taken to move to GPU: \", end_time - start_time)\n",
    "Key = Key.to('cpu')\n",
    "Value = Value.to('cpu')"
   ]
  },
  {
   "cell_type": "markdown",
   "metadata": {},
   "source": [
    "# Pure computing time"
   ]
  },
  {
   "cell_type": "code",
   "execution_count": 14,
   "metadata": {},
   "outputs": [
    {
     "ename": "NameError",
     "evalue": "name 'W_q' is not defined",
     "output_type": "error",
     "traceback": [
      "\u001b[0;31m---------------------------------------------------------------------------\u001b[0m",
      "\u001b[0;31mNameError\u001b[0m                                 Traceback (most recent call last)",
      "\u001b[1;32m/usr/scratch/haokang/research/Fall2023/EfficientLLM/FlashKVcache/general_test/recompute_test.ipynb Cell 6\u001b[0m line \u001b[0;36m8\n\u001b[1;32m      <a href='vscode-notebook-cell://ssh-remote%2Bsynergy3-gpu.ece.gatech.edu/usr/scratch/haokang/research/Fall2023/EfficientLLM/FlashKVcache/general_test/recompute_test.ipynb#W4sdnNjb2RlLXJlbW90ZQ%3D%3D?line=3'>4</a>\u001b[0m \u001b[39m# W_q = torch.randn(model_size, model_size).to(0)\u001b[39;00m\n\u001b[1;32m      <a href='vscode-notebook-cell://ssh-remote%2Bsynergy3-gpu.ece.gatech.edu/usr/scratch/haokang/research/Fall2023/EfficientLLM/FlashKVcache/general_test/recompute_test.ipynb#W4sdnNjb2RlLXJlbW90ZQ%3D%3D?line=4'>5</a>\u001b[0m \u001b[39m# W_k = torch.randn(model_size, model_size).to(0)\u001b[39;00m\n\u001b[1;32m      <a href='vscode-notebook-cell://ssh-remote%2Bsynergy3-gpu.ece.gatech.edu/usr/scratch/haokang/research/Fall2023/EfficientLLM/FlashKVcache/general_test/recompute_test.ipynb#W4sdnNjb2RlLXJlbW90ZQ%3D%3D?line=5'>6</a>\u001b[0m \u001b[39m# W_v = torch.randn(model_size, model_size).to(0)\u001b[39;00m\n\u001b[1;32m      <a href='vscode-notebook-cell://ssh-remote%2Bsynergy3-gpu.ece.gatech.edu/usr/scratch/haokang/research/Fall2023/EfficientLLM/FlashKVcache/general_test/recompute_test.ipynb#W4sdnNjb2RlLXJlbW90ZQ%3D%3D?line=6'>7</a>\u001b[0m start_time \u001b[39m=\u001b[39m time\u001b[39m.\u001b[39mtime()\n\u001b[0;32m----> <a href='vscode-notebook-cell://ssh-remote%2Bsynergy3-gpu.ece.gatech.edu/usr/scratch/haokang/research/Fall2023/EfficientLLM/FlashKVcache/general_test/recompute_test.ipynb#W4sdnNjb2RlLXJlbW90ZQ%3D%3D?line=7'>8</a>\u001b[0m q \u001b[39m=\u001b[39m torch\u001b[39m.\u001b[39mmatmul(\u001b[39minput\u001b[39m[\u001b[39m-\u001b[39m\u001b[39m1\u001b[39m], W_q)\n\u001b[1;32m      <a href='vscode-notebook-cell://ssh-remote%2Bsynergy3-gpu.ece.gatech.edu/usr/scratch/haokang/research/Fall2023/EfficientLLM/FlashKVcache/general_test/recompute_test.ipynb#W4sdnNjb2RlLXJlbW90ZQ%3D%3D?line=8'>9</a>\u001b[0m k \u001b[39m=\u001b[39m torch\u001b[39m.\u001b[39mmatmul(\u001b[39minput\u001b[39m, W_k)\n\u001b[1;32m     <a href='vscode-notebook-cell://ssh-remote%2Bsynergy3-gpu.ece.gatech.edu/usr/scratch/haokang/research/Fall2023/EfficientLLM/FlashKVcache/general_test/recompute_test.ipynb#W4sdnNjb2RlLXJlbW90ZQ%3D%3D?line=9'>10</a>\u001b[0m v \u001b[39m=\u001b[39m torch\u001b[39m.\u001b[39mmatmul(\u001b[39minput\u001b[39m, W_v)\n",
      "\u001b[0;31mNameError\u001b[0m: name 'W_q' is not defined"
     ]
    }
   ],
   "source": [
    "from transformers.pytorch_utils import Conv1D\n",
    "input = torch.randn(batch,seq_len, model_size).to(0)\n",
    "attn = Conv1D(3 * model_size, model_size).to(0)\n",
    "W_q = torch.randn(model_size, model_size).to(0)\n",
    "W_k = torch.randn(model_size, model_size).to(0)\n",
    "W_v = torch.randn(model_size, model_size).to(0)\n",
    "start_time = time.time()\n",
    "q = torch.matmul(input[-1], W_q)\n",
    "k = torch.matmul(input, W_k)\n",
    "v = torch.matmul(input, W_v)\n",
    "# q,k,v = attn(input).split(model_size, dim=2)\n",
    "\n",
    "torch.cuda.synchronize()\n",
    "end_time = time.time()\n",
    "print(\"Time taken for matmul: \", end_time - start_time)"
   ]
  },
  {
   "cell_type": "markdown",
   "metadata": {},
   "source": [
    "# Loading and recompute"
   ]
  },
  {
   "cell_type": "code",
   "execution_count": null,
   "metadata": {},
   "outputs": [],
   "source": [
    "model_size = 4096\n",
    "compute_length = 5000\n",
    "load_length = 5000\n",
    "s1 = torch.cuda.Stream()\n",
    "s2 = torch.cuda.Stream()\n",
    "input = torch.randn(compute_length+load_length, model_size).to(0)\n",
    "W_q = torch.randn(model_size, model_size).to(0)\n",
    "W_k = torch.randn(model_size, model_size).to(0)\n",
    "W_v = torch.randn(model_size, model_size).to(0)\n",
    "\n",
    "K_cache = torch.randn(load_length, model_size)\n",
    "V_cache = torch.randn(load_length, model_size)\n",
    "start_time = time.time()\n",
    "# compute\n",
    "with torch.cuda.stream(s1):\n",
    "    q = torch.matmul(input[-1], W_q)\n",
    "    k = torch.matmul(input[:compute_length], W_k)\n",
    "    v = torch.matmul(input[:compute_length], W_v)\n",
    "with torch.cuda.stream(s2):\n",
    "    K_cache = K_cache.to(0)\n",
    "    V_cache = V_cache.to(0)\n",
    "# torch.cuda.synchronize()\n",
    "    K_cache = torch.cat([K_cache, k], dim=0)\n",
    "    V_cache = torch.cat([V_cache, v], dim=0)\n",
    "torch.cuda.synchronize()\n",
    "end_time = time.time()\n",
    "print(\"Time taken for combination: \", end_time - start_time)\n"
   ]
  },
  {
   "cell_type": "markdown",
   "metadata": {},
   "source": [
    "# Generating graph"
   ]
  },
  {
   "cell_type": "code",
   "execution_count": null,
   "metadata": {},
   "outputs": [],
   "source": [
    "\n",
    "model_size_list = [2048,4096,8192,16384]\n",
    "seq_len_list = [2000,4000,6000,8000]\n",
    "batch_size = 4\n",
    "time_list_compute = []\n",
    "for model_size in model_size_list:\n",
    "    time_list1 = []\n",
    "    for seq_len in seq_len_list:\n",
    "        \n",
    "        input = torch.randn(batch_size,seq_len, model_size).to(0)\n",
    "        W_q = torch.randn(model_size, model_size).to(0)\n",
    "        W_k = torch.randn(model_size, model_size).to(0)\n",
    "        W_v = torch.randn(model_size, model_size).to(0)\n",
    "        start_time = time.time()\n",
    "        q = torch.matmul(input[:,-1,:], W_q)\n",
    "        k = torch.matmul(input, W_k)\n",
    "        v = torch.matmul(input, W_v)\n",
    "        torch.cuda.synchronize()\n",
    "        end_time = time.time()\n",
    "        time_list1.append(end_time - start_time)\n",
    "    time_list_compute.append(time_list1)\n",
    "print(time_list_compute)\n"
   ]
  },
  {
   "cell_type": "code",
   "execution_count": null,
   "metadata": {},
   "outputs": [],
   "source": [
    "import matplotlib.pyplot as plt\n",
    "fig, ax = plt.subplots()\n",
    "\n",
    "# Each model_size will be a separate line in the graph\n",
    "for i, model_size in enumerate(model_size_list):\n",
    "    ax.plot(seq_len_list, time_list_compute[i], label=f'Model size {model_size}')\n",
    "\n",
    "# Label the axes and the plot\n",
    "ax.set_xlabel('Sequence Length')\n",
    "ax.set_ylabel('Time (seconds)')\n",
    "ax.set_title('Pure computation of QKV on Titan RTX')\n",
    "ax.legend()\n",
    "\n",
    "# Show grid for better readability\n",
    "plt.grid(True)\n",
    "\n",
    "# Displaying the graph\n",
    "plt.show()"
   ]
  },
  {
   "cell_type": "code",
   "execution_count": null,
   "metadata": {},
   "outputs": [],
   "source": [
    "\n",
    "model_size_list = [2048,4096,8192,16384]\n",
    "seq_len_list = [2000,4000,6000,8000]\n",
    "batch_size = 4\n",
    "time_list_load = []\n",
    "for model_size in model_size_list:\n",
    "    time_list1 = []\n",
    "    for seq_len in seq_len_list:\n",
    "        \n",
    "        Key = torch.randn(batch_size,seq_len,model_size)\n",
    "        Value = torch.randn(batch_size,seq_len,model_size)\n",
    "        start_time = time.time()\n",
    "        Key = Key.to(0)\n",
    "        Value = Value.to(0)\n",
    "        torch.cuda.synchronize()\n",
    "        end_time = time.time()\n",
    "        time_list1.append(end_time - start_time)\n",
    "    time_list_load.append(time_list1)\n",
    "print(time_list_load)\n"
   ]
  },
  {
   "cell_type": "code",
   "execution_count": null,
   "metadata": {},
   "outputs": [],
   "source": [
    "import matplotlib.pyplot as plt\n",
    "fig, ax = plt.subplots()\n",
    "\n",
    "# Each model_size will be a separate line in the graph\n",
    "for i, model_size in enumerate(model_size_list):\n",
    "    ax.plot(seq_len_list, time_list_load[i], label=f'Model size {model_size}')\n",
    "\n",
    "# Label the axes and the plot\n",
    "ax.set_xlabel('Sequence Length')\n",
    "ax.set_ylabel('Time (seconds)')\n",
    "ax.set_title('Pure Loading of KV Cache on Titan RTX')\n",
    "ax.legend()\n",
    "\n",
    "# Show grid for better readability\n",
    "plt.grid(True)\n",
    "\n",
    "# Displaying the graph\n",
    "plt.show()"
   ]
  },
  {
   "cell_type": "code",
   "execution_count": null,
   "metadata": {},
   "outputs": [],
   "source": [
    "difference = []\n",
    "\n",
    "for i in range(len(model_size_list)):\n",
    "    difference.append([x/y for x, y in zip(time_list_compute[i], time_list_load[i])])\n",
    "print(difference)\n",
    "fig, ax = plt.subplots()\n",
    "for i, model_size in enumerate(model_size_list):\n",
    "    ax.plot(seq_len_list, difference[i], label=f'Model size {model_size}')\n",
    "\n",
    "# Label the axes and the plot\n",
    "ax.set_xlabel('Sequence Length')\n",
    "ax.set_ylabel('Compute time / Load time')\n",
    "ax.set_title('Compute Loading rate on Titan RTX')\n",
    "ax.legend()\n",
    "\n",
    "# Show grid for better readability\n",
    "plt.grid(True)\n",
    "\n",
    "# Displaying the graph\n",
    "plt.show()\n"
   ]
  },
  {
   "cell_type": "code",
   "execution_count": null,
   "metadata": {},
   "outputs": [],
   "source": []
  }
 ],
 "metadata": {
  "kernelspec": {
   "display_name": "llm",
   "language": "python",
   "name": "python3"
  },
  "language_info": {
   "codemirror_mode": {
    "name": "ipython",
    "version": 3
   },
   "file_extension": ".py",
   "mimetype": "text/x-python",
   "name": "python",
   "nbconvert_exporter": "python",
   "pygments_lexer": "ipython3",
   "version": "3.10.13"
  }
 },
 "nbformat": 4,
 "nbformat_minor": 2
}
