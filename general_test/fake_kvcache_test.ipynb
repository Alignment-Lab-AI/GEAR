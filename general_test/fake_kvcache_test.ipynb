{
 "cells": [
  {
   "cell_type": "code",
   "execution_count": null,
   "metadata": {},
   "outputs": [],
   "source": [
    "# this is a test about recomputation acceleration for KV cache"
   ]
  },
  {
   "cell_type": "code",
   "execution_count": 1,
   "metadata": {},
   "outputs": [],
   "source": [
    "import torch"
   ]
  },
  {
   "cell_type": "code",
   "execution_count": null,
   "metadata": {},
   "outputs": [],
   "source": [
    "# input parameters\n",
    "model_dim = 2000\n",
    "seq_len = 1000\n",
    "batch_size = 1\n",
    "loop =24"
   ]
  },
  {
   "cell_type": "code",
   "execution_count": null,
   "metadata": {},
   "outputs": [],
   "source": [
    "# generate W_q, W_k, W_v"
   ]
  },
  {
   "cell_type": "code",
   "execution_count": null,
   "metadata": {},
   "outputs": [],
   "source": [
    "W_q = torch.randn(model_dim, model_dim).half()\n",
    "W_k = torch.randn(model_dim, model_dim).half()\n",
    "W_v = torch.randn(model_dim, model_dim).half()\n",
    "prefil_kcache = torch.randn(batch_size,seq_len, model_dim).half()\n",
    "prefil_vcache = torch.randn(batch_size,seq_len, model_dim).half()\n",
    "new_token = torch.randn(batch_size,1, model_dim).half()\n",
    "all_tokens = torch.randn(batch_size,seq_len, model_dim).half()"
   ]
  },
  {
   "cell_type": "code",
   "execution_count": null,
   "metadata": {},
   "outputs": [],
   "source": [
    "W_q = W_q.to(\"cuda\")\n",
    "W_k = W_k.to(\"cuda\")\n",
    "W_v = W_v.to(\"cuda\")"
   ]
  },
  {
   "cell_type": "markdown",
   "metadata": {},
   "source": [
    "# Without KV cache"
   ]
  },
  {
   "cell_type": "code",
   "execution_count": null,
   "metadata": {},
   "outputs": [],
   "source": [
    "for i in range(loop):\n",
    "    if i == 0:\n",
    "        query = torch.matmul(all_tokens, W_q)\n",
    "        key = torch.matmul(all_tokens, W_k)\n",
    "        value = torch.matmul(all_tokens, W_v)\n",
    "        score = torch.matmul(query, key.transpose(-1,-2))\n",
    "        score = score / (model_dim ** 0.5)\n",
    "        score = torch.softmax(score, dim=-1)\n",
    "        context = torch.matmul(score, value)\n",
    "        "
   ]
  }
 ],
 "metadata": {
  "kernelspec": {
   "display_name": "Python 3",
   "language": "python",
   "name": "python3"
  },
  "language_info": {
   "codemirror_mode": {
    "name": "ipython",
    "version": 3
   },
   "file_extension": ".py",
   "mimetype": "text/x-python",
   "name": "python",
   "nbconvert_exporter": "python",
   "pygments_lexer": "ipython3",
   "version": "3.8.17"
  }
 },
 "nbformat": 4,
 "nbformat_minor": 2
}
