{
 "cells": [
  {
   "cell_type": "code",
   "execution_count": 9,
   "metadata": {},
   "outputs": [
    {
     "name": "stdout",
     "output_type": "stream",
     "text": [
      "89221.0\n",
      "3953.744933612858\n",
      "1172\n"
     ]
    }
   ],
   "source": [
    "from datasets import load_dataset\n",
    "\n",
    "dataset = \"kmfoda/booksum\"\n",
    "maxlength = 8000\n",
    "testdataset = load_dataset(dataset, split=\"test\", cache_dir=\"../cache/\")\n",
    "avg_length = 0\n",
    "max_id = 0\n",
    "for i in range(len(testdataset)):\n",
    "    avg_length += testdataset[i][\"chapter_length\"]\n",
    "    if testdataset[i][\"chapter_length\"] > maxlength:\n",
    "        maxlength = testdataset[i][\"chapter_length\"]\n",
    "    if testdataset[i][\"chapter_length\"] < 5000:\n",
    "        max_id = max_id + 1\n",
    "print(maxlength)\n",
    "print(avg_length/len(testdataset))\n",
    "print(max_id)"
   ]
  },
  {
   "cell_type": "code",
   "execution_count": 17,
   "metadata": {},
   "outputs": [
    {
     "name": "stdout",
     "output_type": "stream",
     "text": [
      "{'rouge1': AggregateScore(low=Score(precision=0.0, recall=0.0, fmeasure=0.0), mid=Score(precision=0.125, recall=0.5, fmeasure=0.2), high=Score(precision=0.25, recall=1.0, fmeasure=0.4)), 'rouge2': AggregateScore(low=Score(precision=0.0, recall=0.0, fmeasure=0.0), mid=Score(precision=0.0, recall=0.0, fmeasure=0.0), high=Score(precision=0.0, recall=0.0, fmeasure=0.0)), 'rougeL': AggregateScore(low=Score(precision=0.0, recall=0.0, fmeasure=0.0), mid=Score(precision=0.125, recall=0.5, fmeasure=0.2), high=Score(precision=0.25, recall=1.0, fmeasure=0.4)), 'rougeLsum': AggregateScore(low=Score(precision=0.0, recall=0.0, fmeasure=0.0), mid=Score(precision=0.125, recall=0.5, fmeasure=0.2), high=Score(precision=0.25, recall=1.0, fmeasure=0.4))}\n"
     ]
    }
   ],
   "source": [
    "import evaluate\n",
    "from datasets import load_metric\n",
    "rouge = load_metric(\"rouge\")\n",
    "predictions = [\"hello goodbye lol lol\", \"ankh morpork\"]\n",
    "references = [\"goodbye\", \"general kenobi duck duck\"]\n",
    "results = rouge.compute(predictions=predictions,\n",
    "                        references=references,\n",
    "                        )\n",
    "print(results)"
   ]
  },
  {
   "cell_type": "code",
   "execution_count": null,
   "metadata": {},
   "outputs": [],
   "source": [
    "def create_dataset():\n",
    "    val_dataset = load_dataset(dataset, split=\"validation\", cache_dir=\"../cache/\")\n",
    "    test_dataset = load_dataset(dataset, split=\"test\", cache_dir=\"../cache/\")\n",
    "\n",
    "    val_dataset = val_dataset.filter(lambda x: len(x[\"document\"]) < maxlength)\n",
    "    test_dataset = test_dataset.filter(lambda x: len(x[\"document\"]) < maxlength)\n",
    "    return val_dataset, test_dataset"
   ]
  },
  {
   "cell_type": "code",
   "execution_count": 1,
   "metadata": {},
   "outputs": [
    {
     "name": "stderr",
     "output_type": "stream",
     "text": [
      "/usr/scratch/haokang/anaconda3/envs/test/lib/python3.10/site-packages/tqdm/auto.py:21: TqdmWarning: IProgress not found. Please update jupyter and ipywidgets. See https://ipywidgets.readthedocs.io/en/stable/user_install.html\n",
      "  from .autonotebook import tqdm as notebook_tqdm\n"
     ]
    }
   ],
   "source": [
    "import torch\n",
    "from transformers import AutoTokenizer, AutoModelForCausalLM\n",
    "from transformers import BitsAndBytesConfig\n",
    "model_name = \"togethercomputer/LLaMA-2-7B-32K\""
   ]
  },
  {
   "cell_type": "code",
   "execution_count": 2,
   "metadata": {},
   "outputs": [],
   "source": [
    "def create_model():\n",
    "    # 8bit quant\n",
    "    tokenizer = AutoTokenizer.from_pretrained(\"togethercomputer/LLaMA-2-7B-32K\",cache_dir=\"../cache/\",padding=True,\n",
    "        truncation=True,\n",
    "        use_cache=True,\n",
    "        max_length=6000)\n",
    "    model = AutoModelForCausalLM.from_pretrained(\"togethercomputer/LLaMA-2-7B-32K\", trust_remote_code=False, torch_dtype=torch.float16,cache_dir=\"../cache/\")\n",
    "    # model = model.half()\n",
    "    return model, tokenizer"
   ]
  },
  {
   "cell_type": "code",
   "execution_count": 3,
   "metadata": {},
   "outputs": [
    {
     "name": "stderr",
     "output_type": "stream",
     "text": [
      "Loading checkpoint shards: 100%|██████████| 2/2 [00:06<00:00,  3.30s/it]\n"
     ]
    }
   ],
   "source": [
    "# val_dataset, test_dataset = create_dataset()\n",
    "model, tokenizer = create_model()"
   ]
  },
  {
   "cell_type": "code",
   "execution_count": 6,
   "metadata": {},
   "outputs": [
    {
     "name": "stdout",
     "output_type": "stream",
     "text": [
      "tensor([[ 476,  338,  451,  697,  310,  502,  472,  445,  931,  322,  591,  674,\n",
      "          451, 2562, 1048,  372,  607,  697,  338, 1749,  899,  672]])\n"
     ]
    }
   ],
   "source": [
    "prompt = [\"K is not one of us at this time and we will not care about it\",\"which one is our solder\"]\n",
    "inputs = tokenizer(prompt, return_tensors=\"pt\", padding=True, truncation=True, max_length=20)\n",
    "print(inputs)"
   ]
  },
  {
   "cell_type": "code",
   "execution_count": null,
   "metadata": {},
   "outputs": [],
   "source": [
    "for i, data in enumerate(test_dataset):\n",
    "    article = data[\"document\"]\n",
    "    print(len(article))\n",
    "    prompt = (\n",
    "                f\"Please summarize the following article.\\n\\n{article}.\\n\\n\"\n",
    "            )\n",
    "    inputs = tokenizer(prompt, return_tensors=\"pt\")\n",
    "    print(inputs[\"input_ids\"].shape)\n",
    "    output = model.generate(**inputs, max_length=128, temperature=0.7,do_sample=True,top_k=50,)\n",
    "    print(output.shape)\n",
    "    output_text = tokenizer.decode(output[0], skip_special_tokens=True)\n",
    "    # print(len(output_text))\n",
    "    # print(output_text)\n",
    "    break"
   ]
  }
 ],
 "metadata": {
  "kernelspec": {
   "display_name": "Python 3",
   "language": "python",
   "name": "python3"
  },
  "language_info": {
   "codemirror_mode": {
    "name": "ipython",
    "version": 3
   },
   "file_extension": ".py",
   "mimetype": "text/x-python",
   "name": "python",
   "nbconvert_exporter": "python",
   "pygments_lexer": "ipython3",
   "version": "3.10.13"
  }
 },
 "nbformat": 4,
 "nbformat_minor": 2
}
