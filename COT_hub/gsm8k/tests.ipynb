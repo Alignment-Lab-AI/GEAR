{
 "cells": [
  {
   "cell_type": "code",
   "execution_count": 1,
   "metadata": {},
   "outputs": [
    {
     "name": "stderr",
     "output_type": "stream",
     "text": [
      "/usr/scratch/haokang/anaconda3/envs/test/lib/python3.10/site-packages/tqdm/auto.py:21: TqdmWarning: IProgress not found. Please update jupyter and ipywidgets. See https://ipywidgets.readthedocs.io/en/stable/user_install.html\n",
      "  from .autonotebook import tqdm as notebook_tqdm\n"
     ]
    }
   ],
   "source": [
    "from models import LlamaForCausalLMH2O, GPT2CompressConfig\n",
    "from transformers import AutoTokenizer\n",
    "import torch"
   ]
  },
  {
   "cell_type": "code",
   "execution_count": 2,
   "metadata": {},
   "outputs": [
    {
     "name": "stdout",
     "output_type": "stream",
     "text": [
      "[0.0, 0.0, 0.0, 0.0, 0.0, 0.0, 0.0, 0.0, 0.0, 0.0, 0.0, 0.0, 0.0, 0.0, 0.0, 0.0, 0.0, 0.0, 0.0, 0.0, 0.0, 0.0, 0.0, 0.0, 0.0, 0.0, 0.0, 0.0, 0.0, 0.0, 0.0, 0.0, 0.0, 0.0, 0.0, 0.0, 0.0, 0.0, 0.0, 0.0, 0.0, 0.0, 0.0, 0.0, 0.0, 0.0, 0.0, 0.0, 0.0, 0.0]\n"
     ]
    }
   ],
   "source": [
    "# compress_config = None\n",
    "compress_config = GPT2CompressConfig(\n",
    "            compress_method=\"h2o\",\n",
    "            heavy_ratio = 0.2,\n",
    "            recent_ratio = 0.05,\n",
    "            attention_number=50\n",
    "        )\n",
    "compress_config.copy_for_all_attention()\n",
    "print(compress_config.rank)"
   ]
  },
  {
   "cell_type": "code",
   "execution_count": 3,
   "metadata": {},
   "outputs": [
    {
     "name": "stderr",
     "output_type": "stream",
     "text": [
      "Loading checkpoint shards: 100%|██████████| 2/2 [00:09<00:00,  4.81s/it]\n"
     ]
    }
   ],
   "source": [
    "model = LlamaForCausalLMH2O.from_pretrained(\n",
    "    \"meta-llama/Llama-2-7b-hf\", compress_config=compress_config,cache_dir = \"./cache\",device_map = \"auto\"\n",
    ")\n",
    "tokenizer = AutoTokenizer.from_pretrained(\"meta-llama/Llama-2-7b-hf\")"
   ]
  },
  {
   "cell_type": "code",
   "execution_count": 4,
   "metadata": {},
   "outputs": [
    {
     "name": "stdout",
     "output_type": "stream",
     "text": [
      "cache budget 255\n",
      "cache budget 255\n",
      "cache budget 255\n",
      "cache budget 255\n",
      "cache budget 255\n",
      "cache budget 255\n",
      "cache budget 255\n",
      "cache budget 255\n",
      "cache budget 255\n",
      "cache budget 255\n",
      "cache budget 255\n",
      "cache budget 255\n",
      "cache budget 255\n",
      "cache budget 255\n",
      "cache budget 255\n",
      "cache budget 255\n",
      "cache budget 255\n",
      "cache budget 255\n",
      "cache budget 255\n",
      "cache budget 255\n",
      "cache budget 255\n",
      "cache budget 255\n",
      "cache budget 255\n",
      "cache budget 255\n",
      "cache budget 255\n",
      "cache budget 255\n",
      "cache budget 255\n",
      "cache budget 255\n",
      "cache budget 255\n",
      "cache budget 255\n",
      "cache budget 255\n",
      "cache budget 255\n"
     ]
    },
    {
     "ename": "",
     "evalue": "",
     "output_type": "error",
     "traceback": [
      "\u001b[1;31mThe Kernel crashed while executing code in the the current cell or a previous cell. Please review the code in the cell(s) to identify a possible cause of the failure. Click <a href='https://aka.ms/vscodeJupyterKernelCrash'>here</a> for more info. View Jupyter <a href='command:jupyter.viewOutput'>log</a> for further details."
     ]
    }
   ],
   "source": [
    "output = tokenizer.encode(\"Hello world daf fweaf asdf weaa dfadf\", return_tensors=\"pt\").cuda()\n",
    "# print(output.shape)\n",
    "input = torch.randint(0,10000,(1,1024)).long().cuda()\n",
    "output = model(input)"
   ]
  }
 ],
 "metadata": {
  "kernelspec": {
   "display_name": "Python 3",
   "language": "python",
   "name": "python3"
  },
  "language_info": {
   "codemirror_mode": {
    "name": "ipython",
    "version": 3
   },
   "file_extension": ".py",
   "mimetype": "text/x-python",
   "name": "python",
   "nbconvert_exporter": "python",
   "pygments_lexer": "ipython3",
   "version": "3.10.13"
  }
 },
 "nbformat": 4,
 "nbformat_minor": 2
}
