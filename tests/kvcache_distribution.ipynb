{
 "cells": [
  {
   "cell_type": "code",
   "execution_count": 1,
   "metadata": {},
   "outputs": [
    {
     "name": "stderr",
     "output_type": "stream",
     "text": [
      "/usr/scratch/haokang/anaconda3/envs/test/lib/python3.10/site-packages/tqdm/auto.py:21: TqdmWarning: IProgress not found. Please update jupyter and ipywidgets. See https://ipywidgets.readthedocs.io/en/stable/user_install.html\n",
      "  from .autonotebook import tqdm as notebook_tqdm\n"
     ]
    }
   ],
   "source": [
    "from models import LlamaForCausalLMNew\n",
    "from transformers import AutoTokenizer, LlamaConfig\n",
    "import torch\n",
    "from datasets import load_dataset"
   ]
  },
  {
   "cell_type": "code",
   "execution_count": null,
   "metadata": {},
   "outputs": [],
   "source": [
    "model_id = \"meta-llama/Llama-2-7b-hf\"\n",
    "# config = LlamaConfig.from_pretrained(\n",
    "#     model_id,\n",
    "#     use_auth_token=True,\n",
    "#     token=None,\n",
    "#     use_flash_attn=False,\n",
    "# )\n",
    "model_kwargs = {}\n",
    "model_kwargs[\"torch_dtype\"] = torch.float16\n",
    "model_kwargs[\"device_map\"] = \"auto\"\n",
    "model_kwargs[\"token\"] = None\n",
    "model_kwargs[\"cache_dir\"] = \"../cache\""
   ]
  },
  {
   "cell_type": "code",
   "execution_count": null,
   "metadata": {},
   "outputs": [],
   "source": [
    "model = LlamaForCausalLMNew.from_pretrained(\n",
    "    model_id,\n",
    "    # config=config,\n",
    "    **model_kwargs,\n",
    "    # cache_dir=\"../cache\",\n",
    "    # compress_config=None,\n",
    ")\n",
    "tokenizer = AutoTokenizer.from_pretrained(\n",
    "    model_id,\n",
    "    token=None,\n",
    "    padding_side=\"left\",\n",
    "    model_max_length=256,\n",
    "    use_fast=False,\n",
    "    cache_dir=\"../cache\",\n",
    ")\n",
    "tokenizer.pad_token = tokenizer.eos_token"
   ]
  },
  {
   "cell_type": "code",
   "execution_count": 2,
   "metadata": {},
   "outputs": [
    {
     "name": "stdout",
     "output_type": "stream",
     "text": [
      "280\n"
     ]
    }
   ],
   "source": [
    "eval_dataset = load_dataset(\"gsm8k\", \"main\", split=\"test\")\n",
    "# print(eval_dataset[0])\n",
    "with open(f\"./prompt_original.txt\", \"r\") as handle:\n",
    "    prompt_cot = handle.read()\n",
    "    \n",
    "questions = eval_dataset[0][\"question\"]\n",
    "answers = eval_dataset[0][\"answer\"]\n",
    "prompts = [\n",
    "            prompt_cot + \"\\nQuestion: \" + question + \"\\n\" for question in questions\n",
    "        ]\n",
    "inputs = tokenizer(\n",
    "    prompts,\n",
    "    return_tensors=\"pt\",\n",
    "    padding=\"longest\",\n",
    "    truncation=True,\n",
    ")\n",
    "print(len(prompts))"
   ]
  },
  {
   "cell_type": "code",
   "execution_count": null,
   "metadata": {},
   "outputs": [],
   "source": [
    "\n",
    "inputs = inputs.to(\"cuda\")\n",
    "print(inputs[\"input_ids\"].shape)"
   ]
  },
  {
   "cell_type": "code",
   "execution_count": null,
   "metadata": {},
   "outputs": [],
   "source": [
    "generated = model(**inputs,use_cache=True)"
   ]
  },
  {
   "cell_type": "code",
   "execution_count": null,
   "metadata": {},
   "outputs": [],
   "source": [
    "import torch\n",
    "from compress_function import fake_dense_sparse_uniformquantization\n",
    "tensor = torch.load(\"key_states.pt\")\n",
    "print(tensor.shape)\n",
    "test_tensor = tensor.reshape(74,-1).float()\n",
    "U, S, Vh = torch.linalg.svd(test_tensor)\n",
    "\n",
    "results = fake_dense_sparse_uniformquantization(test_tensor, 4, 0.01)\n",
    "error = test_tensor - results\n",
    "\n",
    "U, S1, Vh = torch.linalg.svd(error)\n",
    "\n",
    "\n",
    "max = S.max()\n",
    "S = S / max\n",
    "max1 = S1.max()\n",
    "S1 = S1 / max1\n",
    "print(S)\n",
    "print(S1)\n",
    "import torch\n",
    "import matplotlib.pyplot as plt\n",
    "\n",
    "# 创建一个1D张量\n",
    "tensor_1d = torch.tensor([1, 3, 5, 2, 4])\n",
    "\n",
    "# 获取张量中的数据\n",
    "data = S.numpy()\n",
    "data1 = S1.numpy()\n",
    "# 创建X轴的数据\n",
    "x = range(1, len(data)+1)\n",
    "\n",
    "# 绘制折线图\n",
    "plt.plot(x, data)\n",
    "plt.plot(x, data1)\n",
    "# 添加轴标签\n",
    "plt.xlabel('Index')\n",
    "plt.ylabel('Value')\n",
    "\n",
    "# 显示图像\n",
    "plt.show()"
   ]
  },
  {
   "cell_type": "code",
   "execution_count": null,
   "metadata": {},
   "outputs": [],
   "source": [
    "import torch\n",
    "import matplotlib.pyplot as plt\n",
    "\n",
    "# 创建一个1D张量\n",
    "tensor_1d = torch.tensor([1, 3, 5, 2, 4])\n",
    "\n",
    "# 获取张量中的数据\n",
    "data = S.numpy()\n",
    "\n",
    "# 创建X轴的数据\n",
    "x = range(1, len(data)+1)\n",
    "\n",
    "# 绘制折线图\n",
    "plt.plot(x, data)\n",
    "\n",
    "# 添加轴标签\n",
    "plt.xlabel('Index')\n",
    "plt.ylabel('Value')\n",
    "\n",
    "# 显示图像\n",
    "plt.show()"
   ]
  },
  {
   "cell_type": "code",
   "execution_count": null,
   "metadata": {},
   "outputs": [],
   "source": []
  },
  {
   "cell_type": "code",
   "execution_count": null,
   "metadata": {},
   "outputs": [],
   "source": [
    "import torch\n",
    "tensor = torch.load(\"key_states.pt\")\n",
    "print(tensor.shape)\n",
    "test_tensor = tensor.reshape(74,-1).float()\n",
    "\n",
    "results = fake_dense_sparse_uniformquantization(test_tensor, 4, 0.01)\n",
    "error = test_tensor - results"
   ]
  },
  {
   "cell_type": "code",
   "execution_count": null,
   "metadata": {},
   "outputs": [],
   "source": [
    "U, S, Vh = torch.linalg.svd(error)\n",
    "print(S)"
   ]
  },
  {
   "cell_type": "code",
   "execution_count": null,
   "metadata": {},
   "outputs": [],
   "source": [
    "import torch\n",
    "import matplotlib.pyplot as plt\n",
    "\n",
    "# 创建一个1D张量\n",
    "tensor_1d = torch.tensor([1, 3, 5, 2, 4])\n",
    "\n",
    "# 获取张量中的数据\n",
    "data = S.numpy()\n",
    "\n",
    "# 创建X轴的数据\n",
    "x = range(1, len(data)+1)\n",
    "\n",
    "# 绘制折线图\n",
    "plt.plot(x, data)\n",
    "\n",
    "# 添加轴标签\n",
    "plt.xlabel('Index')\n",
    "plt.ylabel('Value')\n",
    "\n",
    "# 显示图像\n",
    "plt.show()"
   ]
  },
  {
   "cell_type": "code",
   "execution_count": null,
   "metadata": {},
   "outputs": [],
   "source": [
    "import torch\n",
    "import matplotlib.pyplot as plt\n",
    "\n",
    "# 创建一个2D张量\n",
    "tensor_2d = torch.rand((3, 4))\n",
    "\n",
    "# 将张量转换为NumPy数组\n",
    "array_2d = tensor[0,0,:,:].numpy()\n",
    "\n",
    "# 使用matplotlib绘制图像\n",
    "plt.imshow(array_2d, cmap='Greens')\n",
    "plt.colorbar()\n",
    "\n",
    "# 添加轴标签\n",
    "plt.xlabel('Columns')\n",
    "plt.ylabel('Rows')\n",
    "\n",
    "# 显示图像\n",
    "plt.show()"
   ]
  }
 ],
 "metadata": {
  "kernelspec": {
   "display_name": "Python 3",
   "language": "python",
   "name": "python3"
  },
  "language_info": {
   "codemirror_mode": {
    "name": "ipython",
    "version": 3
   },
   "file_extension": ".py",
   "mimetype": "text/x-python",
   "name": "python",
   "nbconvert_exporter": "python",
   "pygments_lexer": "ipython3",
   "version": "3.10.13"
  }
 },
 "nbformat": 4,
 "nbformat_minor": 2
}
