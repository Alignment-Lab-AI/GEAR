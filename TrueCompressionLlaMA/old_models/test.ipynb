{
 "cells": [
  {
   "cell_type": "code",
   "execution_count": 1,
   "metadata": {},
   "outputs": [],
   "source": [
    "from CompressUtils.TrueCompressFunction import true_gear_tokenwiseQ_compress, true_gear_tokenwiseQ_decompress,tokenwise_quantization_compress_with_error,tokenwise_dequantization\n",
    "import torch"
   ]
  },
  {
   "cell_type": "code",
   "execution_count": 2,
   "metadata": {},
   "outputs": [
    {
     "name": "stdout",
     "output_type": "stream",
     "text": [
      "torch.Size([1, 32, 200, 128])\n",
      "tensor(-5.2461, device='cuda:0', dtype=torch.float16) tensor(6.0898, device='cuda:0', dtype=torch.float16)\n"
     ]
    }
   ],
   "source": [
    "key_cache = torch.load(\"../cache/key_states_0.pt\")\n",
    "print(key_cache.shape)\n",
    "print(key_cache.min(),key_cache.max())"
   ]
  },
  {
   "cell_type": "code",
   "execution_count": 3,
   "metadata": {},
   "outputs": [],
   "source": [
    "quantize_bit = 4\n",
    "rank = 0.5\n",
    "loop = 3"
   ]
  },
  {
   "cell_type": "code",
   "execution_count": 4,
   "metadata": {},
   "outputs": [],
   "source": [
    "quantized_input, shape, min, step, p_base, q_base,shape_p,shape_q,min_p,min_q,scale_p,scale_q = true_gear_tokenwiseQ_compress(key_cache,quantize_bit,rank,loop)"
   ]
  },
  {
   "cell_type": "code",
   "execution_count": 5,
   "metadata": {},
   "outputs": [
    {
     "name": "stdout",
     "output_type": "stream",
     "text": [
      "tensor(-15.6016, device='cuda:0', dtype=torch.float16) tensor(-1.3867, device='cuda:0', dtype=torch.float16)\n"
     ]
    }
   ],
   "source": [
    "dequantized_input = true_gear_tokenwiseQ_decompress(quantized_input,quantize_bit,shape, min, step, p_base, q_base,shape_p,shape_q,min_p,min_q,scale_p,scale_q,torch.float16)\n",
    "print(dequantized_input.min(),dequantized_input.max())"
   ]
  },
  {
   "cell_type": "code",
   "execution_count": 26,
   "metadata": {},
   "outputs": [
    {
     "name": "stdout",
     "output_type": "stream",
     "text": [
      "tensor(0.0023) tensor(0.9973)\n",
      "tensor([[[[0.5742, 0.0828, 0.0868, 0.3339, 0.7983, 0.7839, 0.9878, 0.3242,\n",
      "           0.0067, 0.8512],\n",
      "          [0.3471, 0.5985, 0.3235, 0.0652, 0.3427, 0.1440, 0.2741, 0.2219,\n",
      "           0.0079, 0.3971],\n",
      "          [0.1707, 0.9551, 0.6223, 0.7643, 0.1067, 0.9388, 0.6936, 0.1697,\n",
      "           0.7592, 0.6240],\n",
      "          [0.7050, 0.9084, 0.8716, 0.5217, 0.7049, 0.2805, 0.8366, 0.6521,\n",
      "           0.0320, 0.3428],\n",
      "          [0.9710, 0.7866, 0.1987, 0.1091, 0.5647, 0.2177, 0.6702, 0.5204,\n",
      "           0.6778, 0.6216],\n",
      "          [0.9610, 0.4163, 0.7773, 0.5864, 0.0333, 0.5160, 0.9476, 0.3460,\n",
      "           0.2343, 0.8147],\n",
      "          [0.0023, 0.7123, 0.3263, 0.3004, 0.5904, 0.5277, 0.2507, 0.0432,\n",
      "           0.5793, 0.8374],\n",
      "          [0.2496, 0.7346, 0.6804, 0.4981, 0.4934, 0.6168, 0.3806, 0.7361,\n",
      "           0.6175, 0.6814],\n",
      "          [0.5738, 0.4399, 0.1305, 0.2993, 0.8127, 0.0407, 0.3142, 0.8533,\n",
      "           0.6530, 0.9973],\n",
      "          [0.9206, 0.9434, 0.0926, 0.0398, 0.5214, 0.2313, 0.9888, 0.2916,\n",
      "           0.2240, 0.7368]]]])\n"
     ]
    }
   ],
   "source": [
    "rand_input = torch.rand(1,1,10,10).to(torch.float32)\n",
    "print(rand_input.min(),rand_input.max())\n",
    "print(rand_input)"
   ]
  },
  {
   "cell_type": "code",
   "execution_count": 28,
   "metadata": {},
   "outputs": [
    {
     "name": "stdout",
     "output_type": "stream",
     "text": [
      "tensor([[[[-0.0077,  0.0241,  0.0282,  0.0136,  0.0203,  0.0058,  0.0135,\n",
      "            0.0040,  0.0135,  0.0078],\n",
      "          [ 0.0007,  0.0158,  0.0165,  0.0338, -0.0037,  0.0337,  0.0064,\n",
      "            0.0329,  0.0158,  0.0112],\n",
      "          [ 0.2208,  0.2135,  0.2201,  0.1923,  0.2135,  0.1972,  0.2347,\n",
      "            0.2198,  0.1873,  0.2217],\n",
      "          [ 0.0358,  0.0639,  0.0855,  0.0862,  0.0357,  0.0788,  0.0505,\n",
      "            0.0413,  0.0639,  0.0826],\n",
      "          [ 0.2182,  0.2062,  0.1929,  0.2182,  0.2141,  0.2119,  0.2048,\n",
      "            0.2273,  0.2123,  0.2135],\n",
      "          [ 0.0666,  0.0786,  0.0685,  0.0631,  0.0666,  0.0546,  0.0533,\n",
      "            0.0701,  0.0821,  0.0440],\n",
      "          [ 0.0045, -0.0092, -0.0055,  0.0243, -0.0197,  0.0289,  0.0303,\n",
      "           -0.0102,  0.0248,  0.0045],\n",
      "          [ 0.4991,  0.4977,  0.5084,  0.4882,  0.4834,  0.5096,  0.5004,\n",
      "            0.4991,  0.5103,  0.5093],\n",
      "          [ 0.1043,  0.0980,  0.1075,  0.0849,  0.0881,  0.0814,  0.0998,\n",
      "            0.0650,  0.0560,  0.0814],\n",
      "          [ 0.0746,  0.0973,  0.0691,  0.0795,  0.0550,  0.0812,  0.0795,\n",
      "            0.0783,  0.0739,  0.0806]]]])\n",
      "tensor(1, dtype=torch.uint8) tensor(254, dtype=torch.uint8)\n",
      "tensor(-0.0197) tensor(0.5103)\n"
     ]
    }
   ],
   "source": [
    "quantized_input, error, min, step, shape = tokenwise_quantization_compress_with_error(rand_input,quantize_bit)\n",
    "print(error)\n",
    "\n",
    "print(error.min(),error.max())"
   ]
  },
  {
   "cell_type": "code",
   "execution_count": 7,
   "metadata": {},
   "outputs": [
    {
     "name": "stdout",
     "output_type": "stream",
     "text": [
      "tensor(-5.2461, device='cuda:0', dtype=torch.float16) tensor(6.0938, device='cuda:0', dtype=torch.float16)\n"
     ]
    }
   ],
   "source": [
    "dequantized_input = tokenwise_dequantization(quantized_input,quantize_bit,min,step,shape,torch.float16)\n",
    "print(dequantized_input.min(),dequantized_input.max())"
   ]
  }
 ],
 "metadata": {
  "kernelspec": {
   "display_name": "Python 3",
   "language": "python",
   "name": "python3"
  },
  "language_info": {
   "codemirror_mode": {
    "name": "ipython",
    "version": 3
   },
   "file_extension": ".py",
   "mimetype": "text/x-python",
   "name": "python",
   "nbconvert_exporter": "python",
   "pygments_lexer": "ipython3",
   "version": "3.10.12"
  }
 },
 "nbformat": 4,
 "nbformat_minor": 2
}
